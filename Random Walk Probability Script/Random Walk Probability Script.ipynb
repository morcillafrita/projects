{
 "cells": [
  {
   "cell_type": "code",
   "execution_count": 5,
   "id": "2ce36f6a",
   "metadata": {},
   "outputs": [],
   "source": [
    "import math"
   ]
  },
  {
   "cell_type": "markdown",
   "id": "40c1b6e0",
   "metadata": {},
   "source": [
    "Let $\\{S_n\\} = \\sum_{i=1}^n X_i$ where $\\{X_i\\}$ are iid random variables with distribution $\\textbf{P}(X_i = 1) = \\textbf{P}(X_i = -1) = \\frac{1}{2}$.\n",
    "\n",
    "Calculate $\\textbf{P}(\\frac{S_{35}}{\\sqrt{50}} \\ge 1)$:\n",
    "\n",
    "Note that $\\textbf{P}(\\frac{S_{35}}{\\sqrt{50}} \\ge 1) \\equiv \\textbf{P}(S_{35} \\ge \\sqrt{50})$  $\\sqrt{50} \\approx 7.07$, but this random walk can only take on interger values, as each increment is either -1 or 1.  This tells us $\\textbf{P}(S_{35} \\ge \\sqrt{50}) = \\textbf{P}(S_{35} \\ge 7.07) = \\textbf{P}(S_{35} \\ge 8)$.  At time index 35, the maximum value the random walk could attain would be 35 (i.e. if $\\forall i \\in \\{1, 2, \\dots, 35\\}, X_i = 1, S_{35} = 35$).  In addition, note that $\\textbf{P}(S_n = x) > 0 \\iff n \\ge x, \\frac{1}{2}(n+x) \\in \\mathbb{Z}$, e.g. the probability that $S_2 = 3$ is zero bceause it's not possible to reach the value 3 in 2 time instants, and similarly the probability that $S_2 = 1$ is 0, as the possible values at that time instant are -2, 0, and 2."
   ]
  },
  {
   "cell_type": "code",
   "execution_count": 10,
   "id": "03bcaf45",
   "metadata": {},
   "outputs": [
    {
     "data": {
      "text/plain": [
       "[9, 11, 13, 15, 17, 19, 21, 23, 25, 27, 29, 31, 33, 35]"
      ]
     },
     "execution_count": 10,
     "metadata": {},
     "output_type": "execute_result"
    }
   ],
   "source": [
    "# Find the possible values of the random walk at time index 35 using list comprehension\n",
    "vals = [val for val in range(8, 36) if (35+val)%2 ==0]\n",
    "vals"
   ]
  },
  {
   "cell_type": "markdown",
   "id": "a71db0d8",
   "metadata": {},
   "source": [
    "So the values of x for which $\\textbf{P}(S_{35} = x) > 0$ are the odd numbers between 9 and 35, inclusive.  Denote this set as $\\mathcal{S}$.  Then $\\textbf{P}(S_{35} \\ge 8) = \\sum_{x \\in \\mathcal{S}} {35 \\choose x} (\\frac{1}{2})^{\\frac{1}{2}(35+x)}(\\frac{1}{2})^{\\frac{1}{2}(35-x)}$"
   ]
  },
  {
   "cell_type": "code",
   "execution_count": 11,
   "id": "99c199ad",
   "metadata": {},
   "outputs": [
    {
     "data": {
      "text/plain": [
       "0.49979465117212385"
      ]
     },
     "execution_count": 11,
     "metadata": {},
     "output_type": "execute_result"
    }
   ],
   "source": [
    "p = 0\n",
    "for x in vals:\n",
    "    p += math.comb(35, x)*(1/2)**((1/2)*(35+x))*(1/2)**((1/2)*(35-x))\n",
    "p"
   ]
  },
  {
   "cell_type": "markdown",
   "id": "1d1fc009",
   "metadata": {},
   "source": [
    "Therefore, $\\textbf{P}(\\frac{S_{35}}{\\sqrt{50}} \\ge 1) \\approx 0.4998$."
   ]
  }
 ],
 "metadata": {
  "kernelspec": {
   "display_name": "Python 3",
   "language": "python",
   "name": "python3"
  },
  "language_info": {
   "codemirror_mode": {
    "name": "ipython",
    "version": 3
   },
   "file_extension": ".py",
   "mimetype": "text/x-python",
   "name": "python",
   "nbconvert_exporter": "python",
   "pygments_lexer": "ipython3",
   "version": "3.8.8"
  }
 },
 "nbformat": 4,
 "nbformat_minor": 5
}
