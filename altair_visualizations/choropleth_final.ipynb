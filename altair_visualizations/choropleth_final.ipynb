{
 "cells": [
  {
   "cell_type": "markdown",
   "metadata": {},
   "source": [
    "## Labor force participation rate choropleths based on the 2015-2019 American Community Survey.  Visualizations created in Altair."
   ]
  },
  {
   "cell_type": "markdown",
   "metadata": {},
   "source": [
    "![Labor Force Participation Rate Choropleth](lfpr_total.svg)\n",
    "> **Data Source: https://www.dol.gov/agencies/wb/data/lfp-rate-sex-state-county**"
   ]
  },
  {
   "cell_type": "markdown",
   "metadata": {},
   "source": [
    "![Male Labor Force Participation Rate Choropleth](lfpr_men.svg)\n",
    "> **Data Source: https://www.dol.gov/agencies/wb/data/lfp-rate-sex-state-county**"
   ]
  },
  {
   "cell_type": "markdown",
   "metadata": {},
   "source": [
    "![Female Labor Force Participation Rate Choropleth](lfpr_women.svg)\n",
    "> **Data Source: https://www.dol.gov/agencies/wb/data/lfp-rate-sex-state-county**"
   ]
  },
  {
   "cell_type": "markdown",
   "metadata": {},
   "source": [
    "![All Labor Force Participation Rate Choropleths](lfpr_3vert.svg)\n",
    "> **Data Source: https://www.dol.gov/agencies/wb/data/lfp-rate-sex-state-county**"
   ]
  }
 ],
 "metadata": {
  "kernelspec": {
   "display_name": "Python 3.8.8 ('base')",
   "language": "python",
   "name": "python3"
  },
  "language_info": {
   "name": "python",
   "version": "3.8.8"
  },
  "orig_nbformat": 4,
  "vscode": {
   "interpreter": {
    "hash": "ad2bdc8ecc057115af97d19610ffacc2b4e99fae6737bb82f5d7fb13d2f2c186"
   }
  }
 },
 "nbformat": 4,
 "nbformat_minor": 2
}
